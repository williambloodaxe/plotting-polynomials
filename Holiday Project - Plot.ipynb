{
 "cells": [
  {
   "cell_type": "code",
   "execution_count": 8,
   "metadata": {
    "scrolled": true
   },
   "outputs": [
    {
     "name": "stdout",
     "output_type": "stream",
     "text": [
      "What type of equation? quadratic = 2, cubic = 3: 9\n",
      "coefficient of x to the power of 9?: 6\n",
      "coefficient of x to the power of 8?: -1000\n",
      "coefficient of x to the power of 7?: 1\n",
      "coefficient of x to the power of 6?: 5\n",
      "coefficient of x to the power of 5?: 8\n",
      "coefficient of x to the power of 4?: 9\n",
      "coefficient of x to the power of 3?: 5\n",
      "coefficient of x to the power of 2?: 3\n",
      "coefficient of x to the power of 1?: 6\n",
      "coefficient of x to the power of 0?: 8\n",
      "Lowest number on X?: -10000\n",
      "Highest number on X?: 10000\n",
      "Step on X?: 1\n",
      "\n",
      "Your polynomial equation is:\n",
      "\n",
      "y = 6x^9 + -1000x^8 + 1x^7 + 5x^6 + 8x^5 + 9x^4 + 5x^3 + 3x^2 + 6x + 8\n",
      "\n",
      "And this is it plotted on a graph:\n",
      "\n"
     ]
    },
    {
     "data": {
      "image/png": "[encoded data removed]",
      "text/plain": [
       "<Figure size 432x288 with 1 Axes>"
      ]
     },
     "metadata": {},
     "output_type": "display_data"
    }
   ],
   "source": [
    "def equation(a):\n",
    "    '''\n",
    "    This function asks you for a list of coefficients. The function's input 'a' is the type of equation, \n",
    "    a quadratic being 2, a cubic 3.  \n",
    "    '''\n",
    "    var1 = a\n",
    "    coefficient = []\n",
    "    while var1 >= 0:  #This loop will ask you 'coefficient of x to the power of 3'\n",
    "        #(or, as you will find later, whatever you put in),and then 'coefficient of x to the power of 2' and so on.\n",
    "        answer = int(input('coefficient of x to the power of ' + str(var1) + '?: '))  \n",
    "        coefficient.append(answer)\n",
    "        var1 -= 1                                       \n",
    "    return coefficient\n",
    "\n",
    "def plot_list(x, d, coeffs):\n",
    "    '''\n",
    "    This function asks for an x value, the type of equation, and a list of coefficients, and outputs a y value.\n",
    "    '''\n",
    "    c_sum= 0\n",
    "    var1=0\n",
    "    while var1 <= d:                        \n",
    "        c_sum+= coeffs[var1]*(x**(d - var1)) #Each time the loop runs, this line adds on the correct coefficient times x^our loop's main variable.\n",
    "        var1+=1\n",
    "    return c_sum\n",
    "    \n",
    "import numpy as np          #Imports a library that I will need. 'as np' means that I can call it np instead of numpy.\n",
    "b = int(input('What type of equation? quadratic = 2, cubic = 3: ')) #This sorts out the type of equation and stores it in a variable 'b'.\n",
    "co = equation(b)            #Stores the output of my first function in a list 'co'.\n",
    "\n",
    "import matplotlib.pyplot as plt   #Imports another library. \n",
    "x = (np.arange(int(input('Lowest number on X?: ')), int(input('Highest number on X?: ')), float(input('Step on X?: ')))) #Creates an array of x values.\n",
    "y = []          #Tells the computer that 'y' is a list.\n",
    "\n",
    "for xi in x:                          #For every item in the array of x values...\n",
    "    y.append(plot_list(xi, b, co))    #...store the y value in the list named y.\n",
    "\n",
    "print()                               #Prints a line with nothing on, just to look neat                             \n",
    "print('Your polynomial equation is:') # This in single quotation marks so that the computer doesn't get confused because of the spaces \n",
    "print()\n",
    "print('y = ', end = '')               #The code 'end = '' ' tells the computer to print te next thing on the same line.\n",
    "i = 0\n",
    "while i <= b:\n",
    "    print (str(co[i]), end = '')      #Prints out the correct coefficient.The last time this loop runs,it will only do this;instead of 2x^1+3x^0, 2x^1+3.\n",
    "    if i == (b-1):\n",
    "        print ('x' + ' + ', end = '') #Instead of 3x^3 + 4x^2 + 5x^1 + 6, 3x^3 + 4x^2 + 5x + 6.\n",
    "    if (i < b) and (not i == (b-1)):\n",
    "        print ('x^' + str(b-i) + ' + ', end = '') #This does the 'x^something' bit.\n",
    "    i+=1 #Stops the loop running forever, and keeps the variables changing.\n",
    "\n",
    "print()\n",
    "print()\n",
    "print('And this is it plotted on a graph:')\n",
    "print()\n",
    "\n",
    "plt.plot(x, y) #Plots the two lists, one of x values, the other of y.  \n",
    "plt.show()     #And shows the graph! Ta-Da!"
   ]
  },
  {
   "cell_type": "code",
   "execution_count": null,
   "metadata": {},
   "outputs": [],
   "source": []
  },
  {
   "cell_type": "code",
   "execution_count": null,
   "metadata": {},
   "outputs": [],
   "source": []
  },
  {
   "cell_type": "code",
   "execution_count": null,
   "metadata": {},
   "outputs": [],
   "source": []
  }
 ],
 "metadata": {
  "kernelspec": {
   "display_name": "Python 3",
   "language": "python",
   "name": "python3"
  },
  "language_info": {
   "codemirror_mode": {
    "name": "ipython",
    "version": 3
   },
   "file_extension": ".py",
   "mimetype": "text/x-python",
   "name": "python",
   "nbconvert_exporter": "python",
   "pygments_lexer": "ipython3",
   "version": "3.4.3"
  }
 },
 "nbformat": 4,
 "nbformat_minor": 2
}
